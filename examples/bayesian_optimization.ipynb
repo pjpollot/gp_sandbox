{
 "cells": [
  {
   "cell_type": "code",
   "execution_count": 1,
   "metadata": {},
   "outputs": [],
   "source": [
    "import numpy as np\n",
    "import scipy.optimize as opt\n",
    "import matplotlib.pyplot as plt\n",
    "from scipy.optimize import Bounds, minimize\n",
    "\n",
    "from sklearn.gaussian_process import GaussianProcessRegressor\n",
    "\n",
    "from gp_sandbox.optimization.bayes import BOModule\n",
    "from gp_sandbox.optimization.bayes.acquisition_functions import expected_improvement\n",
    "\n",
    "%matplotlib inline"
   ]
  },
  {
   "cell_type": "code",
   "execution_count": 2,
   "metadata": {},
   "outputs": [],
   "source": [
    "class MyBO(BOModule):\n",
    "    def __init__(self, black_box_objective_function, bounds):\n",
    "        super().__init__(black_box_objective_function, bounds, black_box_constraints=None)\n",
    "    \n",
    "    def acquisition_maximization(self):\n",
    "        gp = GaussianProcessRegressor().fit(self._X, self._objective_dataset)\n",
    "        \n",
    "        def function_to_minimize(x):\n",
    "            X_to_pred = np.array([x])\n",
    "            mean, std = gp.predict(X_to_pred, return_std=True)\n",
    "            return -expected_improvement(self._f_min, mean, std)\n",
    "        \n",
    "        res = minimize(fun=function_to_minimize, x0=self._x_min)\n",
    "        return res.x"
   ]
  },
  {
   "cell_type": "code",
   "execution_count": 3,
   "metadata": {},
   "outputs": [],
   "source": [
    "def f(x):\n",
    "    return x[0]**2\n",
    "\n",
    "bounds = Bounds([-1],[1])"
   ]
  },
  {
   "cell_type": "code",
   "execution_count": 4,
   "metadata": {},
   "outputs": [
    {
     "data": {
      "text/plain": [
       "array([0.36577405, 0.03817086])"
      ]
     },
     "execution_count": 4,
     "metadata": {},
     "output_type": "execute_result"
    }
   ],
   "source": [
    "X = np.random.uniform(low=-1, high=1, size=(2,1))\n",
    "y = np.array([f(x) for x in X])\n",
    "y"
   ]
  },
  {
   "cell_type": "code",
   "execution_count": 5,
   "metadata": {},
   "outputs": [
    {
     "name": "stdout",
     "output_type": "stream",
     "text": [
      "iteration 1: new objective evaluation=1.2576\n",
      "iteration 2: new objective evaluation=0.0003\n",
      "iteration 3: new objective evaluation=0.0005\n",
      "iteration 4: new objective evaluation=0.0000\n",
      "iteration 5: new objective evaluation=0.0000\n",
      "iteration 6: new objective evaluation=0.0000\n",
      "iteration 7: new objective evaluation=0.0000\n",
      "iteration 8: new objective evaluation=0.0000\n",
      "iteration 9: new objective evaluation=0.0000\n",
      "iteration 10: new objective evaluation=0.0000\n",
      "iteration 11: new objective evaluation=0.0000\n",
      "iteration 12: new objective evaluation=0.0000\n",
      "iteration 13: new objective evaluation=0.0000\n",
      "iteration 14: new objective evaluation=0.0000\n",
      "iteration 15: new objective evaluation=0.0000\n",
      "iteration 16: new objective evaluation=0.0000\n",
      "iteration 17: new objective evaluation=0.0000\n",
      "iteration 18: new objective evaluation=0.0000\n",
      "iteration 19: new objective evaluation=0.0000\n",
      "iteration 20: new objective evaluation=0.0000\n",
      "iteration 21: new objective evaluation=0.0000\n",
      "iteration 22: new objective evaluation=0.0000\n",
      "iteration 23: new objective evaluation=0.0000\n",
      "iteration 24: new objective evaluation=0.0000\n",
      "iteration 25: new objective evaluation=0.0000\n",
      "iteration 26: new objective evaluation=0.0000\n",
      "iteration 27: new objective evaluation=0.0000\n",
      "iteration 28: new objective evaluation=0.0000\n",
      "iteration 29: new objective evaluation=0.0000\n",
      "iteration 30: new objective evaluation=0.0000\n",
      "iteration 31: new objective evaluation=0.0000\n",
      "iteration 32: new objective evaluation=0.0000\n",
      "iteration 33: new objective evaluation=0.0000\n",
      "iteration 34: new objective evaluation=0.0000\n",
      "iteration 35: new objective evaluation=0.0000\n",
      "iteration 36: new objective evaluation=0.0000\n",
      "iteration 37: new objective evaluation=0.0000\n",
      "iteration 38: new objective evaluation=0.0000\n",
      "iteration 39: new objective evaluation=0.0000\n",
      "iteration 40: new objective evaluation=0.0000\n",
      "iteration 41: new objective evaluation=0.0000\n",
      "iteration 42: new objective evaluation=0.0000\n",
      "iteration 43: new objective evaluation=0.0000\n",
      "iteration 44: new objective evaluation=0.0000\n",
      "iteration 45: new objective evaluation=0.0000\n",
      "iteration 46: new objective evaluation=0.0000\n",
      "iteration 47: new objective evaluation=0.0000\n",
      "iteration 48: new objective evaluation=0.0000\n",
      "iteration 49: new objective evaluation=0.0000\n",
      "iteration 50: new objective evaluation=0.0000\n",
      "iteration 51: new objective evaluation=0.0000\n",
      "iteration 52: new objective evaluation=0.0000\n",
      "iteration 53: new objective evaluation=0.0000\n",
      "iteration 54: new objective evaluation=0.0000\n",
      "iteration 55: new objective evaluation=0.0000\n",
      "iteration 56: new objective evaluation=0.0000\n",
      "iteration 57: new objective evaluation=0.0000\n",
      "iteration 58: new objective evaluation=0.0000\n",
      "iteration 59: new objective evaluation=0.0000\n",
      "iteration 60: new objective evaluation=0.0000\n",
      "iteration 61: new objective evaluation=0.0000\n",
      "iteration 62: new objective evaluation=0.0000\n",
      "iteration 63: new objective evaluation=0.0000\n",
      "iteration 64: new objective evaluation=0.0000\n",
      "iteration 65: new objective evaluation=0.0000\n",
      "iteration 66: new objective evaluation=0.0000\n",
      "iteration 67: new objective evaluation=0.0000\n",
      "iteration 68: new objective evaluation=0.0000\n",
      "iteration 69: new objective evaluation=0.0000\n",
      "iteration 70: new objective evaluation=0.0000\n",
      "iteration 71: new objective evaluation=0.0000\n",
      "iteration 72: new objective evaluation=0.0000\n",
      "iteration 73: new objective evaluation=0.0000\n",
      "iteration 74: new objective evaluation=0.0000\n",
      "iteration 75: new objective evaluation=0.0000\n",
      "iteration 76: new objective evaluation=0.0000\n",
      "iteration 77: new objective evaluation=0.0000\n",
      "iteration 78: new objective evaluation=0.0000\n",
      "iteration 79: new objective evaluation=0.0000\n",
      "iteration 80: new objective evaluation=0.0000\n",
      "iteration 81: new objective evaluation=0.0000\n",
      "iteration 82: new objective evaluation=0.0000\n",
      "iteration 83: new objective evaluation=0.0000\n",
      "iteration 84: new objective evaluation=0.0000\n",
      "iteration 85: new objective evaluation=0.0000\n",
      "iteration 86: new objective evaluation=0.0000\n",
      "iteration 87: new objective evaluation=0.0000\n",
      "iteration 88: new objective evaluation=0.0000\n",
      "iteration 89: new objective evaluation=0.0000\n",
      "iteration 90: new objective evaluation=0.0000\n",
      "iteration 91: new objective evaluation=0.0000\n",
      "iteration 92: new objective evaluation=0.0000\n",
      "iteration 93: new objective evaluation=0.0000\n",
      "iteration 94: new objective evaluation=0.0000\n",
      "iteration 95: new objective evaluation=0.0000\n",
      "iteration 96: new objective evaluation=0.0000\n",
      "iteration 97: new objective evaluation=0.0000\n",
      "iteration 98: new objective evaluation=0.0000\n",
      "iteration 99: new objective evaluation=0.0000\n",
      "iteration 100: new objective evaluation=0.0000\n"
     ]
    }
   ],
   "source": [
    "bo = MyBO(f, bounds)\n",
    "bo.minimize(X, y)"
   ]
  },
  {
   "cell_type": "code",
   "execution_count": 10,
   "metadata": {},
   "outputs": [
    {
     "data": {
      "text/plain": [
       "(4.771257009445702e-14, array([2.18432072e-07]))"
      ]
     },
     "execution_count": 10,
     "metadata": {},
     "output_type": "execute_result"
    }
   ],
   "source": [
    "bo.get_result(return_objective=True)"
   ]
  },
  {
   "cell_type": "markdown",
   "metadata": {},
   "source": [
    "# Or with the EXPECTED IMPROVEMENT ALGORITHM"
   ]
  },
  {
   "cell_type": "code",
   "execution_count": 7,
   "metadata": {},
   "outputs": [],
   "source": [
    "from gp_sandbox.optimization.bayes import EIAlgorithm"
   ]
  },
  {
   "cell_type": "code",
   "execution_count": 9,
   "metadata": {},
   "outputs": [
    {
     "name": "stdout",
     "output_type": "stream",
     "text": [
      "iteration 1: new objective evaluation=1.2576\n",
      "iteration 2: new objective evaluation=0.0003\n",
      "iteration 3: new objective evaluation=0.0005\n",
      "iteration 4: new objective evaluation=0.0000\n",
      "iteration 5: new objective evaluation=0.0000\n",
      "iteration 6: new objective evaluation=0.0000\n",
      "iteration 7: new objective evaluation=0.0000\n",
      "iteration 8: new objective evaluation=0.0000\n",
      "iteration 9: new objective evaluation=0.0000\n",
      "iteration 10: new objective evaluation=0.0000\n",
      "iteration 11: new objective evaluation=0.0000\n",
      "iteration 12: new objective evaluation=0.0000\n",
      "iteration 13: new objective evaluation=0.0000\n",
      "iteration 14: new objective evaluation=0.0000\n",
      "iteration 15: new objective evaluation=0.0000\n",
      "iteration 16: new objective evaluation=0.0000\n",
      "iteration 17: new objective evaluation=0.0000\n",
      "iteration 18: new objective evaluation=0.0000\n",
      "iteration 19: new objective evaluation=0.0000\n",
      "iteration 20: new objective evaluation=0.0000\n",
      "iteration 21: new objective evaluation=0.0000\n",
      "iteration 22: new objective evaluation=0.0000\n",
      "iteration 23: new objective evaluation=0.0000\n",
      "iteration 24: new objective evaluation=0.0000\n",
      "iteration 25: new objective evaluation=0.0000\n",
      "iteration 26: new objective evaluation=0.0000\n",
      "iteration 27: new objective evaluation=0.0000\n",
      "iteration 28: new objective evaluation=0.0000\n",
      "iteration 29: new objective evaluation=0.0000\n",
      "iteration 30: new objective evaluation=0.0000\n",
      "iteration 31: new objective evaluation=0.0000\n",
      "iteration 32: new objective evaluation=0.0000\n",
      "iteration 33: new objective evaluation=0.0000\n",
      "iteration 34: new objective evaluation=0.0000\n",
      "iteration 35: new objective evaluation=0.0000\n",
      "iteration 36: new objective evaluation=0.0000\n",
      "iteration 37: new objective evaluation=0.0000\n",
      "iteration 38: new objective evaluation=0.0000\n",
      "iteration 39: new objective evaluation=0.0000\n",
      "iteration 40: new objective evaluation=0.0000\n",
      "iteration 41: new objective evaluation=0.0000\n",
      "iteration 42: new objective evaluation=0.0000\n",
      "iteration 43: new objective evaluation=0.0000\n",
      "iteration 44: new objective evaluation=0.0000\n",
      "iteration 45: new objective evaluation=0.0000\n",
      "iteration 46: new objective evaluation=0.0000\n",
      "iteration 47: new objective evaluation=0.0000\n",
      "iteration 48: new objective evaluation=0.0000\n",
      "iteration 49: new objective evaluation=0.0000\n",
      "iteration 50: new objective evaluation=0.0000\n",
      "iteration 51: new objective evaluation=0.0000\n",
      "iteration 52: new objective evaluation=0.0000\n",
      "iteration 53: new objective evaluation=0.0000\n",
      "iteration 54: new objective evaluation=0.0000\n",
      "iteration 55: new objective evaluation=0.0000\n",
      "iteration 56: new objective evaluation=0.0000\n",
      "iteration 57: new objective evaluation=0.0000\n",
      "iteration 58: new objective evaluation=0.0000\n",
      "iteration 59: new objective evaluation=0.0000\n",
      "iteration 60: new objective evaluation=0.0000\n",
      "iteration 61: new objective evaluation=0.0000\n",
      "iteration 62: new objective evaluation=0.0000\n",
      "iteration 63: new objective evaluation=0.0000\n",
      "iteration 64: new objective evaluation=0.0000\n",
      "iteration 65: new objective evaluation=0.0000\n",
      "iteration 66: new objective evaluation=0.0000\n",
      "iteration 67: new objective evaluation=0.0000\n",
      "iteration 68: new objective evaluation=0.0000\n",
      "iteration 69: new objective evaluation=0.0000\n",
      "iteration 70: new objective evaluation=0.0000\n",
      "iteration 71: new objective evaluation=0.0000\n",
      "iteration 72: new objective evaluation=0.0000\n",
      "iteration 73: new objective evaluation=0.0000\n",
      "iteration 74: new objective evaluation=0.0000\n",
      "iteration 75: new objective evaluation=0.0000\n",
      "iteration 76: new objective evaluation=0.0000\n",
      "iteration 77: new objective evaluation=0.0000\n",
      "iteration 78: new objective evaluation=0.0000\n",
      "iteration 79: new objective evaluation=0.0000\n",
      "iteration 80: new objective evaluation=0.0000\n",
      "iteration 81: new objective evaluation=0.0000\n",
      "iteration 82: new objective evaluation=0.0000\n",
      "iteration 83: new objective evaluation=0.0000\n",
      "iteration 84: new objective evaluation=0.0000\n",
      "iteration 85: new objective evaluation=0.0000\n",
      "iteration 86: new objective evaluation=0.0000\n",
      "iteration 87: new objective evaluation=0.0000\n",
      "iteration 88: new objective evaluation=0.0000\n",
      "iteration 89: new objective evaluation=0.0000\n",
      "iteration 90: new objective evaluation=0.0000\n",
      "iteration 91: new objective evaluation=0.0000\n",
      "iteration 92: new objective evaluation=0.0000\n",
      "iteration 93: new objective evaluation=0.0000\n",
      "iteration 94: new objective evaluation=0.0000\n",
      "iteration 95: new objective evaluation=0.0000\n",
      "iteration 96: new objective evaluation=0.0000\n",
      "iteration 97: new objective evaluation=0.0000\n",
      "iteration 98: new objective evaluation=0.0000\n",
      "iteration 99: new objective evaluation=0.0000\n",
      "iteration 100: new objective evaluation=0.0000\n"
     ]
    }
   ],
   "source": [
    "eia = EIAlgorithm(f, bounds).minimize(X, y)"
   ]
  },
  {
   "cell_type": "code",
   "execution_count": null,
   "metadata": {},
   "outputs": [],
   "source": [
    "eia.get_result()"
   ]
  }
 ],
 "metadata": {
  "kernelspec": {
   "display_name": "Python 3.9.13 ('.env': venv)",
   "language": "python",
   "name": "python3"
  },
  "language_info": {
   "codemirror_mode": {
    "name": "ipython",
    "version": 3
   },
   "file_extension": ".py",
   "mimetype": "text/x-python",
   "name": "python",
   "nbconvert_exporter": "python",
   "pygments_lexer": "ipython3",
   "version": "3.10.6"
  },
  "orig_nbformat": 4,
  "vscode": {
   "interpreter": {
    "hash": "edfd262436253cc00af00b852ade312214d33f7151595e3114fa112b5e547cf5"
   }
  }
 },
 "nbformat": 4,
 "nbformat_minor": 2
}
