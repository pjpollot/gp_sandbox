{
 "cells": [
  {
   "cell_type": "code",
   "execution_count": 1,
   "metadata": {},
   "outputs": [],
   "source": [
    "import os\n",
    "import numpy as np\n",
    "import matplotlib.pyplot as plt"
   ]
  },
  {
   "cell_type": "code",
   "execution_count": 2,
   "metadata": {},
   "outputs": [],
   "source": [
    "# Setup\n",
    "os.chdir(\"..\")\n",
    "plt.style.use(\"ggplot\")\n",
    "\n",
    "%matplotlib inline"
   ]
  },
  {
   "cell_type": "code",
   "execution_count": 3,
   "metadata": {},
   "outputs": [
    {
     "data": {
      "text/plain": [
       "[<matplotlib.lines.Line2D at 0x1170756a0>]"
      ]
     },
     "execution_count": 3,
     "metadata": {},
     "output_type": "execute_result"
    },
    {
     "data": {
      "image/png": "[encoded data removed]",
      "text/plain": [
       "<Figure size 432x288 with 1 Axes>"
      ]
     },
     "metadata": {
      "needs_background": "light"
     },
     "output_type": "display_data"
    }
   ],
   "source": [
    "def f(x):\n",
    "    return np.exp(-x**2)\n",
    "\n",
    "t = np.linspace(0,1,100)\n",
    "y = f(t)\n",
    "plt.plot(t,y)"
   ]
  },
  {
   "cell_type": "code",
   "execution_count": 4,
   "metadata": {},
   "outputs": [],
   "source": [
    "from gp.kernels import RBF\n",
    "from gp.models import GPRegressor"
   ]
  },
  {
   "cell_type": "code",
   "execution_count": 5,
   "metadata": {},
   "outputs": [
    {
     "data": {
      "text/plain": [
       "{'log_l': 0.0, 'log_sigma': 0.0, 'log_noise': -23.025850929940457}"
      ]
     },
     "execution_count": 5,
     "metadata": {},
     "output_type": "execute_result"
    }
   ],
   "source": [
    "ker = RBF(input_dim=1, l=1, sigma=1)\n",
    "gpr = GPRegressor(kernel_function=ker)\n",
    "gpr._param"
   ]
  },
  {
   "cell_type": "code",
   "execution_count": 6,
   "metadata": {},
   "outputs": [
    {
     "name": "stdout",
     "output_type": "stream",
     "text": [
      "# Starting optimization\n",
      "#1: log_lik=13.888469097997408; parameters={'log_l': 0.0, 'log_sigma': 0.0, 'log_noise': -23.025850929940457}\n",
      "#2: log_lik=14.091515524888752; parameters={'log_l': 0.039975350070963034, 'log_sigma': -0.026916685530450197, 'log_noise': -23.025850929941225}\n",
      "#3: log_lik=14.200420317307138; parameters={'log_l': 0.06711969079842675, 'log_sigma': -0.050170353346038615, 'log_noise': -23.02585092994203}\n",
      "#4: log_lik=14.25541810006522; parameters={'log_l': 0.0827288427736312, 'log_sigma': -0.07009082626551391, 'log_noise': -23.025850929942855}\n",
      "#5: log_lik=14.287172671581594; parameters={'log_l': 0.0897467418656379, 'log_sigma': -0.08744593224022539, 'log_noise': -23.02585092994369}\n",
      "#6: log_lik=14.310932054372872; parameters={'log_l': 0.09146679160408895, 'log_sigma': -0.10310269306181, 'log_noise': -23.02585092994453}\n",
      "#7: log_lik=14.33200873611233; parameters={'log_l': 0.09037795550115335, 'log_sigma': -0.11771823597839104, 'log_noise': -23.02585092994537}\n",
      "#8: log_lik=14.351844314593798; parameters={'log_l': 0.08795199450592919, 'log_sigma': -0.13168026267550886, 'log_noise': -23.025850929946216}\n",
      "#9: log_lik=14.370779837076348; parameters={'log_l': 0.08494441481196192, 'log_sigma': -0.14518635167973118, 'log_noise': -23.02585092994706}\n",
      "#10: log_lik=14.388893960202594; parameters={'log_l': 0.08171545213614083, 'log_sigma': -0.15832920467481018, 'log_noise': -23.025850929947907}\n",
      "#11: log_lik=14.406212633563616; parameters={'log_l': 0.07843082998124375, 'log_sigma': -0.17115014628740027, 'log_noise': -23.025850929948753}\n",
      "#12: log_lik=14.422752520365076; parameters={'log_l': 0.07516551639933824, 'log_sigma': -0.18366678439779208, 'log_noise': -23.0258509299496}\n",
      "#13: log_lik=14.438525597000957; parameters={'log_l': 0.0719531620288217, 'log_sigma': -0.19588617719477042, 'log_noise': -23.025850929950447}\n",
      "#14: log_lik=14.453547713578931; parameters={'log_l': 0.06880879844076845, 'log_sigma': -0.20781086576636879, 'log_noise': -23.025850929951297}\n",
      "#15: log_lik=14.467835214233675; parameters={'log_l': 0.0657390778099034, 'log_sigma': -0.21944160616025327, 'log_noise': -23.025850929952146}\n",
      "#16: log_lik=14.481406276520985; parameters={'log_l': 0.06274686340448171, 'log_sigma': -0.23077859476907175, 'log_noise': -23.025850929952995}\n",
      "#17: log_lik=14.494278073574382; parameters={'log_l': 0.059833277067646136, 'log_sigma': -0.2418220096081495, 'log_noise': -23.025850929953844}\n",
      "#18: log_lik=14.506470563993942; parameters={'log_l': 0.05699861613213217, 'log_sigma': -0.2525722400611266, 'log_noise': -23.025850929954693}\n",
      "#19: log_lik=14.518004214543758; parameters={'log_l': 0.054242756331368595, 'log_sigma': -0.26303004362154747, 'log_noise': -23.025850929955542}\n",
      "#20: log_lik=14.52889970458764; parameters={'log_l': 0.05156532681017781, 'log_sigma': -0.27319646301679307, 'log_noise': -23.025850929956395}\n",
      "#21: log_lik=14.53917816931205; parameters={'log_l': 0.0489658156936821, 'log_sigma': -0.2830730075167957, 'log_noise': -23.025850929957247}\n",
      "#22: log_lik=14.548862148919131; parameters={'log_l': 0.046443572548232635, 'log_sigma': -0.2926615372311789, 'log_noise': -23.0258509299581}\n",
      "#23: log_lik=14.557974075586944; parameters={'log_l': 0.04399785345021884, 'log_sigma': -0.30196428617578924, 'log_noise': -23.025850929958953}\n",
      "#24: log_lik=14.566536623736738; parameters={'log_l': 0.04162782311501361, 'log_sigma': -0.3109838322049472, 'log_noise': -23.025850929959805}\n",
      "#25: log_lik=14.574571227339181; parameters={'log_l': 0.03933256500014978, 'log_sigma': -0.3197231325588654, 'log_noise': -23.025850929960658}\n",
      "#26: log_lik=14.582102859119782; parameters={'log_l': 0.03711108221436008, 'log_sigma': -0.32818547226488587, 'log_noise': -23.02585092996151}\n",
      "#27: log_lik=14.589152436876887; parameters={'log_l': 0.03496230051790918, 'log_sigma': -0.3363744336995296, 'log_noise': -23.025850929962363}\n",
      "#28: log_lik=14.59574446250272; parameters={'log_l': 0.032885082391967455, 'log_sigma': -0.3442939023254439, 'log_noise': -23.02585092996322}\n",
      "#29: log_lik=14.601899215203861; parameters={'log_l': 0.030878225731012218, 'log_sigma': -0.35194805092643944, 'log_noise': -23.025850929964076}\n",
      "#30: log_lik=14.607639458329563; parameters={'log_l': 0.028940464463830733, 'log_sigma': -0.3593413186818361, 'log_noise': -23.025850929964932}\n",
      "#31: log_lik=14.612987532149416; parameters={'log_l': 0.02707048541496989, 'log_sigma': -0.36647836076328527, 'log_noise': -23.025850929965788}\n",
      "#32: log_lik=14.617963418208575; parameters={'log_l': 0.025266926246094962, 'log_sigma': -0.3733640313195064, 'log_noise': -23.025850929966644}\n",
      "#33: log_lik=14.622588362872596; parameters={'log_l': 0.023528379076215068, 'log_sigma': -0.3800034417235292, 'log_noise': -23.0258509299675}\n",
      "#34: log_lik=14.626882515509855; parameters={'log_l': 0.021853399350056868, 'log_sigma': -0.386401807074435, 'log_noise': -23.025850929968357}\n",
      "#35: log_lik=14.630864592193987; parameters={'log_l': 0.020240511200154295, 'log_sigma': -0.3925645182898733, 'log_noise': -23.025850929969213}\n",
      "#36: log_lik=14.634554290792284; parameters={'log_l': 0.01868820763140321, 'log_sigma': -0.39849710390204557, 'log_noise': -23.02585092997007}\n",
      "#37: log_lik=14.637969201660388; parameters={'log_l': 0.017194964800874013, 'log_sigma': -0.404205197142437, 'log_noise': -23.025850929970925}\n",
      "#38: log_lik=14.6411257335196; parameters={'log_l': 0.0157592328746614, 'log_sigma': -0.40969452543416984, 'log_noise': -23.02585092997178}\n",
      "#39: log_lik=14.644042015809818; parameters={'log_l': 0.014379460988693617, 'log_sigma': -0.41497086624149226, 'log_noise': -23.02585092997264}\n",
      "#40: log_lik=14.646732976244984; parameters={'log_l': 0.013054077673332366, 'log_sigma': -0.420040051434189, 'log_noise': -23.0258509299735}\n",
      "#41: log_lik=14.649213738332428; parameters={'log_l': 0.011781516000719429, 'log_sigma': -0.4249079618032555, 'log_noise': -23.02585092997436}\n",
      "#42: log_lik=14.651499141982207; parameters={'log_l': 0.010560207015660133, 'log_sigma': -0.4295804647775366, 'log_noise': -23.02585092997522}\n",
      "#43: log_lik=14.653602353482109; parameters={'log_l': 0.009388585111591973, 'log_sigma': -0.43406344681396136, 'log_noise': -23.02585092997608}\n",
      "#44: log_lik=14.655536039150235; parameters={'log_l': 0.008265094885737206, 'log_sigma': -0.4383627687138504, 'log_noise': -23.02585092997694}\n",
      "#45: log_lik=14.65731285711308; parameters={'log_l': 0.007188189072167014, 'log_sigma': -0.44248425465193564, 'log_noise': -23.0258509299778}\n",
      "#46: log_lik=14.6589441760001; parameters={'log_l': 0.006156338963155584, 'log_sigma': -0.4464336949959396, 'log_noise': -23.02585092997866}\n",
      "#47: log_lik=14.660440562830688; parameters={'log_l': 0.005168031319644804, 'log_sigma': -0.4502168071153572, 'log_noise': -23.02585092997952}\n",
      "#48: log_lik=14.661812284067583; parameters={'log_l': 0.004221770364783886, 'log_sigma': -0.4538392567413392, 'log_noise': -23.02585092998038}\n",
      "#49: log_lik=14.663069082289987; parameters={'log_l': 0.0033160852683613556, 'log_sigma': -0.45730662291054597, 'log_noise': -23.02585092998124}\n",
      "#50: log_lik=14.664219148960711; parameters={'log_l': 0.0024495302311879712, 'log_sigma': -0.46062439647619596, 'log_noise': -23.0258509299821}\n",
      "#51: log_lik=14.665271731299335; parameters={'log_l': 0.0016206884289749796, 'log_sigma': -0.4637979634909423, 'log_noise': -23.02585092998296}\n",
      "#52: log_lik=14.666233522555757; parameters={'log_l': 0.0008281658331725411, 'log_sigma': -0.46683262439910306, 'log_noise': -23.025850929983818}\n",
      "#53: log_lik=14.667112447145904; parameters={'log_l': 7.060128036756206e-05, 'log_sigma': -0.4697335639270021, 'log_noise': -23.025850929984678}\n",
      "#54: log_lik=14.667915093600739; parameters={'log_l': -0.0006533327194847444, 'log_sigma': -0.4725058389944023, 'log_noise': -23.025850929985538}\n",
      "#55: log_lik=14.668647814356554; parameters={'log_l': -0.0013449364243206148, 'log_sigma': -0.4751544145226943, 'log_noise': -23.025850929986397}\n",
      "#56: log_lik=14.669316146675573; parameters={'log_l': -0.0020054736151359906, 'log_sigma': -0.4776840980758424, 'log_noise': -23.02585092998726}\n",
      "#57: log_lik=14.669925443327726; parameters={'log_l': -0.0026361785404515033, 'log_sigma': -0.48009959196439006, 'log_noise': -23.025850929988124}\n",
      "#58: log_lik=14.670479705823674; parameters={'log_l': -0.003238243911619058, 'log_sigma': -0.48240546328597694, 'log_noise': -23.025850929988987}\n",
      "#59: log_lik=14.67098563075885; parameters={'log_l': -0.0038128313217202885, 'log_sigma': -0.4846061505400575, 'log_noise': -23.02585092998985}\n",
      "#60: log_lik=14.67144578514931; parameters={'log_l': -0.004361071286439248, 'log_sigma': -0.4867059608816634, 'log_noise': -23.025850929990714}\n",
      "#61: log_lik=14.671864412844313; parameters={'log_l': -0.004884056421942653, 'log_sigma': -0.4887090815883129, 'log_noise': -23.025850929991577}\n",
      "#62: log_lik=14.672245564723058; parameters={'log_l': -0.005382841151513269, 'log_sigma': -0.4906195378722622, 'log_noise': -23.02585092999244}\n",
      "#63: log_lik=14.672591473801463; parameters={'log_l': -0.005858450355317466, 'log_sigma': -0.492441249215044, 'log_noise': -23.025850929993304}\n",
      "#64: log_lik=14.672906347996715; parameters={'log_l': -0.006311869675118935, 'log_sigma': -0.4941779999586287, 'log_noise': -23.025850929994167}\n",
      "#65: log_lik=14.67319190580829; parameters={'log_l': -0.006744059811844629, 'log_sigma': -0.4958334253577049, 'log_noise': -23.02585092999503}\n",
      "#66: log_lik=14.67345164204176; parameters={'log_l': -0.007155934178299497, 'log_sigma': -0.49741106785135336, 'log_noise': -23.025850929995894}\n",
      "#67: log_lik=14.673687068704448; parameters={'log_l': -0.007548384463261748, 'log_sigma': -0.49891430640593165, 'log_noise': -23.025850929996757}\n",
      "#68: log_lik=14.673901154981927; parameters={'log_l': -0.007922263296240992, 'log_sigma': -0.5003464278089813, 'log_noise': -23.02585092999762}\n",
      "#69: log_lik=14.674095272366413; parameters={'log_l': -0.008278398972579447, 'log_sigma': -0.5017105754429939, 'log_noise': -23.025850929998484}\n",
      "#70: log_lik=14.674271212199663; parameters={'log_l': -0.008617576737578923, 'log_sigma': -0.5030097898596431, 'log_noise': -23.025850929999347}\n",
      "#71: log_lik=14.674430731866462; parameters={'log_l': -0.008940559853490408, 'log_sigma': -0.5042469682882073, 'log_noise': -23.02585093000021}\n",
      "#72: log_lik=14.674575330416742; parameters={'log_l': -0.009248082119665917, 'log_sigma': -0.5054249212821013, 'log_noise': -23.025850930001074}\n",
      "#73: log_lik=14.674706491761368; parameters={'log_l': -0.009540842871101626, 'log_sigma': -0.5065463260072282, 'log_noise': -23.025850930001937}\n",
      "#74: log_lik=14.674825108814684; parameters={'log_l': -0.009819516422812733, 'log_sigma': -0.5076137756335082, 'log_noise': -23.0258509300028}\n",
      "#75: log_lik=14.674932791415506; parameters={'log_l': -0.010084747021974174, 'log_sigma': -0.5086297422752248, 'log_noise': -23.025850930003664}\n",
      "#76: log_lik=14.675030103857582; parameters={'log_l': -0.010337158487345725, 'log_sigma': -0.5095965970843097, 'log_noise': -23.025850930004527}\n",
      "#77: log_lik=14.675118462811312; parameters={'log_l': -0.010577340961954172, 'log_sigma': -0.5105166128289418, 'log_noise': -23.02585093000539}\n",
      "#78: log_lik=14.675198255969088; parameters={'log_l': -0.01080586583777403, 'log_sigma': -0.5113919698889365, 'log_noise': -23.025850930006253}\n",
      "#79: log_lik=14.675270737710198; parameters={'log_l': -0.01102327726051953, 'log_sigma': -0.5122247577353845, 'log_noise': -23.025850930007117}\n",
      "#80: log_lik=14.675336147731052; parameters={'log_l': -0.011230096550661978, 'log_sigma': -0.5130169524834489, 'log_noise': -23.02585093000798}\n",
      "#81: log_lik=14.675395368463672; parameters={'log_l': -0.011426819012576738, 'log_sigma': -0.5137704866728743, 'log_noise': -23.025850930008843}\n",
      "#82: log_lik=14.675448751725156; parameters={'log_l': -0.011613923347958912, 'log_sigma': -0.5144871751067692, 'log_noise': -23.025850930009707}\n",
      "#83: log_lik=14.67549706898639; parameters={'log_l': -0.011791864350980171, 'log_sigma': -0.5151687672932165, 'log_noise': -23.02585093001057}\n",
      "#84: log_lik=14.675540806239454; parameters={'log_l': -0.011961079492975835, 'log_sigma': -0.5158169354428536, 'log_noise': -23.025850930011433}\n",
      "#85: log_lik=14.675580403339383; parameters={'log_l': -0.012121984188543131, 'log_sigma': -0.5164332677726632, 'log_noise': -23.025850930012297}\n",
      "#86: log_lik=14.675616261680911; parameters={'log_l': -0.012274975734599132, 'log_sigma': -0.5170192950009367, 'log_noise': -23.02585093001316}\n",
      "#87: log_lik=14.675648862309647; parameters={'log_l': -0.012420435036401608, 'log_sigma': -0.5175764498487113, 'log_noise': -23.025850930014023}\n",
      "#88: log_lik=14.675677824599648; parameters={'log_l': -0.012558722243447841, 'log_sigma': -0.518106133424444, 'log_noise': -23.025850930014887}\n",
      "#89: log_lik=14.675704393338444; parameters={'log_l': -0.012690181494544954, 'log_sigma': -0.5186096675659063, 'log_noise': -23.02585093001575}\n",
      "#90: log_lik=14.675728248054487; parameters={'log_l': -0.01281514528463958, 'log_sigma': -0.5190883233316708, 'log_noise': -23.025850930016613}\n",
      "#91: log_lik=14.675749516285713; parameters={'log_l': -0.012933926318000881, 'log_sigma': -0.5195433014340233, 'log_noise': -23.025850930017477}\n",
      "#92: log_lik=14.67576924881605; parameters={'log_l': -0.013046827381458565, 'log_sigma': -0.5199757513403892, 'log_noise': -23.02585093001834}\n",
      "#93: log_lik=14.675786819095372; parameters={'log_l': -0.013154131524370309, 'log_sigma': -0.5203867684595752, 'log_noise': -23.025850930019203}\n",
      "#94: log_lik=14.67580288395025; parameters={'log_l': -0.013256113325260225, 'log_sigma': -0.5207773840182927, 'log_noise': -23.025850930020066}\n",
      "#95: log_lik=14.67581701580439; parameters={'log_l': -0.013353031063325029, 'log_sigma': -0.5211486074060667, 'log_noise': -23.02585093002093}\n",
      "#96: log_lik=14.675829956540998; parameters={'log_l': -0.013445131538337587, 'log_sigma': -0.5215013866615481, 'log_noise': -23.025850930021793}\n",
      "#97: log_lik=14.675841368197693; parameters={'log_l': -0.013532651001823975, 'log_sigma': -0.5218366161768789, 'log_noise': -23.025850930022656}\n",
      "#98: log_lik=14.675852085811545; parameters={'log_l': -0.013615816959900254, 'log_sigma': -0.5221551590471062, 'log_noise': -23.02585093002352}\n",
      "#99: log_lik=14.675861744639544; parameters={'log_l': -0.013694840255411688, 'log_sigma': -0.5224578519829083, 'log_noise': -23.025850930024383}\n",
      "#100: log_lik=14.675870210992827; parameters={'log_l': -0.013769925643500753, 'log_sigma': -0.5227454370562918, 'log_noise': -23.025850930025246}\n",
      "14.675878046387318 {'log_l': -0.006778096703783376, 'log_sigma': -0.025962036452256143, 'log_noise': -8.641956926057783e-11}\n"
     ]
    }
   ],
   "source": [
    "n = 5\n",
    "x = np.random.uniform(size=n)\n",
    "yt = f(x)\n",
    "\n",
    "gpr.fit_optimize(x[:,None],yt)\n",
    "print(gpr._loglik, gpr._grad)"
   ]
  },
  {
   "cell_type": "code",
   "execution_count": 7,
   "metadata": {},
   "outputs": [
    {
     "data": {
      "text/plain": [
       "<matplotlib.legend.Legend at 0x1200d0a60>"
      ]
     },
     "execution_count": 7,
     "metadata": {},
     "output_type": "execute_result"
    },
    {
     "data": {
      "image/png": "[encoded data removed]",
      "text/plain": [
       "<Figure size 432x288 with 1 Axes>"
      ]
     },
     "metadata": {
      "needs_background": "light"
     },
     "output_type": "display_data"
    }
   ],
   "source": [
    "yp, std = gpr.predict(t[:,None], return_std=True)\n",
    "plt.plot(t,y,label=\"true\")\n",
    "plt.plot(t,yp,label=\"predicted\")\n",
    "plt.fill_between(\n",
    "    t,\n",
    "    yp-1.96*std,\n",
    "    yp+1.96*std,\n",
    "    alpha=0.3,\n",
    "    label=\"CI\"\n",
    ")\n",
    "plt.scatter(x,yt)\n",
    "plt.legend()"
   ]
  },
  {
   "cell_type": "code",
   "execution_count": 8,
   "metadata": {},
   "outputs": [],
   "source": [
    "sample_size = 5\n",
    "ys = gpr.sample(t[:, None], size=sample_size)"
   ]
  },
  {
   "cell_type": "code",
   "execution_count": 9,
   "metadata": {},
   "outputs": [
    {
     "data": {
      "text/plain": [
       "<matplotlib.legend.Legend at 0x1170b3850>"
      ]
     },
     "execution_count": 9,
     "metadata": {},
     "output_type": "execute_result"
    },
    {
     "data": {
      "image/png": "[encoded data removed]",
      "text/plain": [
       "<Figure size 432x288 with 1 Axes>"
      ]
     },
     "metadata": {
      "needs_background": "light"
     },
     "output_type": "display_data"
    }
   ],
   "source": [
    "plt.plot(t,y,label=\"true\")\n",
    "for k in range(sample_size):\n",
    "    plt.plot(t, ys[k, :], '--')\n",
    "plt.fill_between(\n",
    "    t,\n",
    "    yp-1.96*std,\n",
    "    yp+1.96*std,\n",
    "    alpha=0.3,\n",
    "    label=\"CI\"\n",
    ")\n",
    "plt.scatter(x,yt)\n",
    "plt.title('Posterior samples')\n",
    "plt.legend()"
   ]
  },
  {
   "cell_type": "code",
   "execution_count": null,
   "metadata": {},
   "outputs": [],
   "source": []
  },
  {
   "cell_type": "code",
   "execution_count": null,
   "metadata": {},
   "outputs": [],
   "source": []
  }
 ],
 "metadata": {
  "kernelspec": {
   "display_name": "Python 3.9.13 ('.env': venv)",
   "language": "python",
   "name": "python3"
  },
  "language_info": {
   "codemirror_mode": {
    "name": "ipython",
    "version": 3
   },
   "file_extension": ".py",
   "mimetype": "text/x-python",
   "name": "python",
   "nbconvert_exporter": "python",
   "pygments_lexer": "ipython3",
   "version": "3.9.13"
  },
  "orig_nbformat": 4,
  "vscode": {
   "interpreter": {
    "hash": "edfd262436253cc00af00b852ade312214d33f7151595e3114fa112b5e547cf5"
   }
  }
 },
 "nbformat": 4,
 "nbformat_minor": 2
}
