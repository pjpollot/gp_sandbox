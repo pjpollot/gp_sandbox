{
 "cells": [
  {
   "cell_type": "code",
   "execution_count": 1,
   "metadata": {},
   "outputs": [],
   "source": [
    "import os\n",
    "import numpy as np\n",
    "import matplotlib.pyplot as plt\n",
    "\n",
    "%matplotlib inline\n",
    "plt.style.use('ggplot')\n",
    "os.chdir('../src/')"
   ]
  },
  {
   "cell_type": "code",
   "execution_count": 2,
   "metadata": {},
   "outputs": [],
   "source": [
    "from gp.models import GPBinaryClassifier\n",
    "from gp.kernels import RBF"
   ]
  },
  {
   "cell_type": "code",
   "execution_count": 3,
   "metadata": {},
   "outputs": [],
   "source": [
    "ker = RBF(input_dim=2)\n",
    "gpc = GPBinaryClassifier(ker)"
   ]
  },
  {
   "cell_type": "code",
   "execution_count": 4,
   "metadata": {},
   "outputs": [],
   "source": [
    "def separator(x):\n",
    "    if x[1] > x[0]**2:\n",
    "        return 1\n",
    "    else:\n",
    "        return -1"
   ]
  },
  {
   "cell_type": "code",
   "execution_count": 10,
   "metadata": {},
   "outputs": [],
   "source": [
    "n_train = 100\n",
    "X = np.random.uniform(size=(n_train, 2))\n",
    "y = np.array([\n",
    "    separator(X[k,:]) for k in range(n_train)\n",
    "])"
   ]
  },
  {
   "cell_type": "code",
   "execution_count": 11,
   "metadata": {},
   "outputs": [
    {
     "data": {
      "text/plain": [
       "<matplotlib.collections.PathCollection at 0x115ad8d30>"
      ]
     },
     "execution_count": 11,
     "metadata": {},
     "output_type": "execute_result"
    },
    {
     "data": {
      "image/png": "[encoded data removed]",
      "text/plain": [
       "<Figure size 432x288 with 1 Axes>"
      ]
     },
     "metadata": {},
     "output_type": "display_data"
    }
   ],
   "source": [
    "plt.scatter(X[:,0], X[:,1], c=y, cmap='seismic')"
   ]
  },
  {
   "cell_type": "code",
   "execution_count": 12,
   "metadata": {},
   "outputs": [
    {
     "name": "stdout",
     "output_type": "stream",
     "text": [
      "log-likelihood=50.23260\n",
      "log-likelihood=50.55765\n",
      "log-likelihood=51.41176\n",
      "log-likelihood=54.53073\n",
      "log-likelihood=61.03177\n",
      "log-likelihood=62.15602\n",
      "log-likelihood=62.46753\n",
      "log-likelihood=62.62817\n",
      "log-likelihood=62.72341\n",
      "log-likelihood=62.78703\n",
      "log-likelihood=62.83303\n",
      "log-likelihood=62.86709\n",
      "log-likelihood=62.89259\n",
      "log-likelihood=62.91191\n",
      "log-likelihood=62.92673\n",
      "log-likelihood=62.93825\n",
      "log-likelihood=62.94731\n",
      "log-likelihood=62.95450\n",
      "log-likelihood=62.96026\n",
      "log-likelihood=62.96492\n",
      "log-likelihood=62.96872\n",
      "log-likelihood=62.97183\n",
      "log-likelihood=62.97440\n",
      "log-likelihood=62.97653\n",
      "log-likelihood=62.97831\n",
      "log-likelihood=62.97980\n",
      "log-likelihood=62.98105\n",
      "log-likelihood=62.98212\n",
      "log-likelihood=62.98302\n",
      "log-likelihood=62.98379\n",
      "log-likelihood=62.98445\n",
      "log-likelihood=62.98502\n",
      "log-likelihood=62.98551\n",
      "log-likelihood=62.98593\n",
      "log-likelihood=62.98630\n",
      "log-likelihood=62.98662\n",
      "log-likelihood=62.98690\n",
      "log-likelihood=62.98714\n",
      "log-likelihood=62.98736\n",
      "log-likelihood=62.98755\n",
      "log-likelihood=62.98772\n",
      "log-likelihood=62.98786\n",
      "log-likelihood=62.98800\n",
      "log-likelihood=62.98811\n",
      "log-likelihood=62.98822\n",
      "log-likelihood=62.98831\n",
      "log-likelihood=62.98839\n",
      "log-likelihood=62.98847\n",
      "log-likelihood=62.98853\n",
      "log-likelihood=62.98859\n",
      "log-likelihood=62.98865\n",
      "log-likelihood=62.98869\n",
      "log-likelihood=62.98874\n",
      "log-likelihood=62.98878\n",
      "log-likelihood=62.98881\n",
      "log-likelihood=62.98884\n",
      "log-likelihood=62.98887\n",
      "log-likelihood=62.98890\n",
      "log-likelihood=62.98892\n",
      "log-likelihood=62.98894\n",
      "log-likelihood=62.98896\n",
      "log-likelihood=62.98898\n",
      "log-likelihood=62.98900\n",
      "log-likelihood=62.98901\n",
      "log-likelihood=62.98903\n",
      "log-likelihood=62.98904\n",
      "log-likelihood=62.98905\n",
      "log-likelihood=62.98906\n",
      "log-likelihood=62.98907\n",
      "log-likelihood=62.98908\n",
      "log-likelihood=62.98908\n",
      "log-likelihood=62.98909\n",
      "log-likelihood=62.98910\n",
      "log-likelihood=62.98910\n",
      "log-likelihood=62.98911\n",
      "log-likelihood=62.98911\n",
      "log-likelihood=62.98912\n",
      "log-likelihood=62.98912\n",
      "log-likelihood=62.98912\n",
      "log-likelihood=62.98913\n",
      "log-likelihood=62.98913\n",
      "log-likelihood=62.98913\n",
      "log-likelihood=62.98914\n",
      "log-likelihood=62.98914\n",
      "log-likelihood=62.98914\n",
      "log-likelihood=62.98914\n",
      "log-likelihood=62.98914\n",
      "log-likelihood=62.98915\n",
      "log-likelihood=62.98915\n",
      "log-likelihood=62.98915\n",
      "log-likelihood=62.98915\n",
      "log-likelihood=62.98915\n",
      "log-likelihood=62.98915\n",
      "log-likelihood=62.98915\n",
      "log-likelihood=62.98915\n",
      "log-likelihood=62.98915\n",
      "log-likelihood=62.98916\n",
      "log-likelihood=62.98916\n",
      "log-likelihood=62.98916\n",
      "log-likelihood=62.98916\n"
     ]
    },
    {
     "data": {
      "text/plain": [
       "<gp.models.GPBinaryClassifier at 0x11597bd60>"
      ]
     },
     "execution_count": 12,
     "metadata": {},
     "output_type": "execute_result"
    }
   ],
   "source": [
    "gpc.fit(X, y)"
   ]
  },
  {
   "cell_type": "code",
   "execution_count": 13,
   "metadata": {},
   "outputs": [
    {
     "data": {
      "text/plain": [
       "{'log_l': -0.262096096939637, 'log_sigma': 1.0817971059461047}"
      ]
     },
     "execution_count": 13,
     "metadata": {},
     "output_type": "execute_result"
    }
   ],
   "source": [
    "gpc._kernel.get_param()"
   ]
  },
  {
   "cell_type": "code",
   "execution_count": null,
   "metadata": {},
   "outputs": [],
   "source": []
  }
 ],
 "metadata": {
  "kernelspec": {
   "display_name": "Python 3.9.13 ('.env': venv)",
   "language": "python",
   "name": "python3"
  },
  "language_info": {
   "codemirror_mode": {
    "name": "ipython",
    "version": 3
   },
   "file_extension": ".py",
   "mimetype": "text/x-python",
   "name": "python",
   "nbconvert_exporter": "python",
   "pygments_lexer": "ipython3",
   "version": "3.9.13"
  },
  "orig_nbformat": 4,
  "vscode": {
   "interpreter": {
    "hash": "edfd262436253cc00af00b852ade312214d33f7151595e3114fa112b5e547cf5"
   }
  }
 },
 "nbformat": 4,
 "nbformat_minor": 2
}
