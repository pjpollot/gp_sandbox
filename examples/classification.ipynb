{
 "cells": [
  {
   "cell_type": "code",
   "execution_count": 1,
   "metadata": {},
   "outputs": [],
   "source": [
    "import os\n",
    "import numpy as np\n",
    "import matplotlib.pyplot as plt\n",
    "\n",
    "%matplotlib inline\n",
    "plt.style.use('ggplot')\n",
    "os.chdir('../src/')"
   ]
  },
  {
   "cell_type": "code",
   "execution_count": 2,
   "metadata": {},
   "outputs": [],
   "source": [
    "from gp.models import GPBinaryClassifier\n",
    "from gp.kernels import RBF"
   ]
  },
  {
   "cell_type": "code",
   "execution_count": 3,
   "metadata": {},
   "outputs": [],
   "source": [
    "def separator(x):\n",
    "    if x[1] > x[0]**2:\n",
    "        return 1\n",
    "    else:\n",
    "        return -1"
   ]
  },
  {
   "cell_type": "code",
   "execution_count": 4,
   "metadata": {},
   "outputs": [],
   "source": [
    "n_train = 100\n",
    "X = np.random.uniform(size=(n_train, 2))\n",
    "y = np.array([\n",
    "    separator(X[k,:]) for k in range(n_train)\n",
    "])"
   ]
  },
  {
   "cell_type": "code",
   "execution_count": 5,
   "metadata": {},
   "outputs": [
    {
     "data": {
      "text/plain": [
       "<matplotlib.collections.PathCollection at 0x1123954c0>"
      ]
     },
     "execution_count": 5,
     "metadata": {},
     "output_type": "execute_result"
    },
    {
     "data": {
      "image/png": "[encoded data removed]",
      "text/plain": [
       "<Figure size 432x288 with 1 Axes>"
      ]
     },
     "metadata": {},
     "output_type": "display_data"
    }
   ],
   "source": [
    "plt.scatter(X[:,0], X[:,1], c=y, cmap='seismic')"
   ]
  },
  {
   "cell_type": "code",
   "execution_count": 6,
   "metadata": {},
   "outputs": [
    {
     "data": {
      "text/plain": [
       "{'log_l': 0.0, 'log_sigma': 0.0}"
      ]
     },
     "execution_count": 6,
     "metadata": {},
     "output_type": "execute_result"
    }
   ],
   "source": [
    "ker = RBF(input_dim=2)\n",
    "gpc = GPBinaryClassifier(ker)\n",
    "gpc.get_param()"
   ]
  },
  {
   "cell_type": "code",
   "execution_count": 7,
   "metadata": {},
   "outputs": [
    {
     "name": "stdout",
     "output_type": "stream",
     "text": [
      "log-likelihood=-57.47646\n",
      "log-likelihood=-53.22806\n",
      "log-likelihood=-53.20317\n",
      "log-likelihood=-53.18530\n",
      "log-likelihood=-53.17235\n",
      "log-likelihood=-53.16289\n",
      "log-likelihood=-53.15592\n",
      "log-likelihood=-53.15076\n",
      "log-likelihood=-53.14694\n",
      "log-likelihood=-53.14410\n",
      "log-likelihood=-53.14200\n",
      "log-likelihood=-53.14046\n",
      "log-likelihood=-53.13934\n",
      "log-likelihood=-53.13854\n",
      "log-likelihood=-53.13799\n",
      "log-likelihood=-53.13763\n",
      "log-likelihood=-53.13740\n",
      "log-likelihood=-53.13728\n",
      "log-likelihood=-53.13724\n",
      "log-likelihood=-53.13726\n",
      "log-likelihood=-53.13733\n",
      "log-likelihood=-53.13742\n",
      "log-likelihood=-53.13754\n",
      "log-likelihood=-53.13767\n",
      "log-likelihood=-53.13780\n",
      "log-likelihood=-53.13795\n",
      "log-likelihood=-53.13809\n",
      "log-likelihood=-53.13823\n",
      "log-likelihood=-53.13837\n",
      "log-likelihood=-53.13851\n",
      "log-likelihood=-53.13864\n",
      "log-likelihood=-53.13876\n",
      "log-likelihood=-53.13888\n",
      "log-likelihood=-53.13899\n",
      "log-likelihood=-53.13909\n",
      "log-likelihood=-53.13919\n",
      "log-likelihood=-53.13928\n",
      "log-likelihood=-53.13937\n",
      "log-likelihood=-53.13944\n",
      "log-likelihood=-53.13952\n",
      "log-likelihood=-53.13959\n",
      "log-likelihood=-53.13965\n",
      "log-likelihood=-53.13971\n",
      "log-likelihood=-53.13976\n",
      "log-likelihood=-53.13981\n",
      "log-likelihood=-53.13986\n",
      "log-likelihood=-53.13990\n",
      "log-likelihood=-53.13994\n",
      "log-likelihood=-53.13998\n",
      "log-likelihood=-53.14001\n",
      "log-likelihood=-53.14004\n",
      "log-likelihood=-53.14007\n",
      "log-likelihood=-53.14010\n",
      "log-likelihood=-53.14012\n",
      "log-likelihood=-53.14014\n",
      "log-likelihood=-53.14016\n",
      "log-likelihood=-53.14018\n",
      "log-likelihood=-53.14020\n",
      "log-likelihood=-53.14021\n",
      "log-likelihood=-53.14023\n",
      "log-likelihood=-53.14024\n",
      "log-likelihood=-53.14025\n",
      "log-likelihood=-53.14026\n",
      "log-likelihood=-53.14027\n",
      "log-likelihood=-53.14028\n",
      "log-likelihood=-53.14029\n",
      "log-likelihood=-53.14030\n",
      "log-likelihood=-53.14030\n",
      "log-likelihood=-53.14031\n",
      "log-likelihood=-53.14032\n",
      "log-likelihood=-53.14032\n",
      "log-likelihood=-53.14033\n",
      "log-likelihood=-53.14033\n",
      "log-likelihood=-53.14034\n",
      "log-likelihood=-53.14034\n",
      "log-likelihood=-53.14034\n",
      "log-likelihood=-53.14035\n",
      "log-likelihood=-53.14035\n",
      "log-likelihood=-53.14035\n",
      "log-likelihood=-53.14036\n",
      "log-likelihood=-53.14036\n",
      "log-likelihood=-53.14036\n",
      "log-likelihood=-53.14036\n",
      "log-likelihood=-53.14036\n",
      "log-likelihood=-53.14037\n",
      "log-likelihood=-53.14037\n",
      "log-likelihood=-53.14037\n",
      "log-likelihood=-53.14037\n",
      "log-likelihood=-53.14037\n",
      "log-likelihood=-53.14037\n",
      "log-likelihood=-53.14037\n",
      "log-likelihood=-53.14037\n",
      "log-likelihood=-53.14037\n",
      "log-likelihood=-53.14037\n",
      "log-likelihood=-53.14038\n",
      "log-likelihood=-53.14038\n",
      "log-likelihood=-53.14038\n",
      "log-likelihood=-53.14038\n",
      "log-likelihood=-53.14038\n",
      "log-likelihood=-53.14038\n"
     ]
    },
    {
     "data": {
      "text/plain": [
       "<gp.models.GPBinaryClassifier at 0x11a5cf430>"
      ]
     },
     "execution_count": 7,
     "metadata": {},
     "output_type": "execute_result"
    }
   ],
   "source": [
    "gpc.fit(X, y)"
   ]
  },
  {
   "cell_type": "code",
   "execution_count": 9,
   "metadata": {},
   "outputs": [
    {
     "data": {
      "text/plain": [
       "{'log_l': -0.28765999331697967, 'log_sigma': 1.0401660276260185}"
      ]
     },
     "execution_count": 9,
     "metadata": {},
     "output_type": "execute_result"
    }
   ],
   "source": [
    "gpc.get_param()"
   ]
  },
  {
   "cell_type": "code",
   "execution_count": null,
   "metadata": {},
   "outputs": [],
   "source": []
  }
 ],
 "metadata": {
  "kernelspec": {
   "display_name": "Python 3.9.13 ('.env': venv)",
   "language": "python",
   "name": "python3"
  },
  "language_info": {
   "codemirror_mode": {
    "name": "ipython",
    "version": 3
   },
   "file_extension": ".py",
   "mimetype": "text/x-python",
   "name": "python",
   "nbconvert_exporter": "python",
   "pygments_lexer": "ipython3",
   "version": "3.9.13"
  },
  "orig_nbformat": 4,
  "vscode": {
   "interpreter": {
    "hash": "edfd262436253cc00af00b852ade312214d33f7151595e3114fa112b5e547cf5"
   }
  }
 },
 "nbformat": 4,
 "nbformat_minor": 2
}
